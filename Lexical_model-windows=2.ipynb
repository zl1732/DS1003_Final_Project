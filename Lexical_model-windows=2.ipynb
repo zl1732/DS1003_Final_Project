{
 "cells": [
  {
   "cell_type": "code",
   "execution_count": 7,
   "metadata": {
    "collapsed": false
   },
   "outputs": [],
   "source": [
    "import pandas as pd\n",
    "import os\n",
    "import pickle\n",
    "from sklearn.metrics import roc_curve, auc\n",
    "from sklearn.preprocessing import scale\n",
    "from sklearn.cross_validation import train_test_split\n",
    "from sklearn.multiclass import OneVsRestClassifier\n",
    "from sklearn.ensemble import RandomForestClassifier\n",
    "from sklearn.svm import LinearSVC\n",
    "from sklearn import svm\n",
    "from sklearn import metrics\n",
    "from sklearn.preprocessing import LabelEncoder\n",
    "\n",
    "def read_data(name,k):\n",
    "    os.chdir(\"C:\\Spring_2017\\machine_learning\\DS1003_Final_Project\")\n",
    "    dataset = pickle.load( open( \"pos_\" + name + \"_2.p\", \"rb\" ) )\n",
    "    Y = pickle.load( open( \"tar_\" + name + \"_2.p\", \"rb\" ) )\n",
    "\n",
    "    dataset.columns = ['p-2','p-1','p0','p+1','p+2']\n",
    "    dataset['Y'] = Y\n",
    "    dataset['flag'] = (dataset==\"None\").sum(axis=1)<k\n",
    "    dataset = dataset[dataset['Y'].str.contains(\"\\.\")]\n",
    "    dataset = dataset[dataset['flag'] == True]\n",
    "\n",
    "    lab = 'Y'\n",
    "    Y = dataset[lab]\n",
    "    X = dataset.drop(['flag'], 1)\n",
    "    X =  X.apply(LabelEncoder().fit_transform)\n",
    "    X_train, X_test, Y_train, Y_test = train_test_split(X, Y, test_size=0.2, random_state=42)\n",
    "\n",
    "    Y_train = pd.Series(Y_train)    \n",
    "    Y_test = pd.Series(Y_test)\n",
    "    return X_train, X_test, Y_train, Y_test"
   ]
  },
  {
   "cell_type": "code",
   "execution_count": 3,
   "metadata": {
    "collapsed": false
   },
   "outputs": [
    {
     "name": "stdout",
     "output_type": "stream",
     "text": [
      "  act :  0.217391304348\n",
      "  be :  0.594564145895\n",
      "  have :  0.354166666667\n",
      "  form :  0.330935251799\n",
      "  high :  0.465838509317\n",
      "  play :  0.306569343066\n",
      "  report :  0.431034482759\n",
      "  state :  0.870498084291\n",
      "  use :  0.780429594272\n",
      "  sum :  0.486486486486\n"
     ]
    }
   ],
   "source": [
    "# Baseline accuracy\n",
    "word_list = ['act','be','have','form','high','play','report','state','use','sum']\n",
    "for word in word_list:\n",
    "    Y = pickle.load( open( \"tar_\" + word + \".p\", \"rb\" ) )\n",
    "    print(\" \",word,\": \",Y.describe()[3]/Y.describe()[0])"
   ]
  },
  {
   "cell_type": "code",
   "execution_count": 8,
   "metadata": {
    "collapsed": false
   },
   "outputs": [],
   "source": [
    "from sklearn import tree\n",
    "import numpy as np\n",
    "from sklearn.model_selection import GridSearchCV\n",
    "\n",
    "def tree_method(X_train, Y_train, X_test, Y_test):\n",
    "    param_grid = {'max_depth': np.arange(2,30)}\n",
    "    svr = tree.DecisionTreeClassifier()\n",
    "    clf = GridSearchCV(svr, param_grid )\n",
    "    clf.fit(X_train, Y_train)\n",
    "\n",
    "    tree_preds = clf.predict(X_test)\n",
    "    score = clf.score(X_test, Y_test)\n",
    "    return tree_preds, score"
   ]
  },
  {
   "cell_type": "code",
   "execution_count": 9,
   "metadata": {
    "collapsed": false
   },
   "outputs": [],
   "source": [
    "def tree_method_on_wordlist(word_list):\n",
    "    score_dict={}\n",
    "    cross_dict = {}\n",
    "    for word in word_list:\n",
    "        X_train, X_test, Y_train, Y_test = read_data(word,100)\n",
    "        tree_preds, score = tree_method(X_train, Y_train, X_test, Y_test)\n",
    "        df = pd.DataFrame()\n",
    "        df['truth'] = Y_test\n",
    "        df['predict'] = tree_preds\n",
    "        cross_dict[word] = pd.crosstab(df['truth'], df['predict'], margins=True)\n",
    "        score_dict[word] = score\n",
    "    print(sum(score_dict.values())/len(word_list))\n",
    "    return cross_dict, score_dict"
   ]
  },
  {
   "cell_type": "code",
   "execution_count": 10,
   "metadata": {
    "collapsed": false
   },
   "outputs": [
    {
     "name": "stderr",
     "output_type": "stream",
     "text": [
      "C:\\Anaconda3\\lib\\site-packages\\sklearn\\model_selection\\_split.py:581: Warning: The least populated class in y has only 1 members, which is too few. The minimum number of groups for any class cannot be less than n_splits=3.\n",
      "  % (min_groups, self.n_splits)), Warning)\n",
      "C:\\Anaconda3\\lib\\site-packages\\sklearn\\model_selection\\_split.py:581: Warning: The least populated class in y has only 1 members, which is too few. The minimum number of groups for any class cannot be less than n_splits=3.\n",
      "  % (min_groups, self.n_splits)), Warning)\n",
      "C:\\Anaconda3\\lib\\site-packages\\sklearn\\model_selection\\_split.py:581: Warning: The least populated class in y has only 2 members, which is too few. The minimum number of groups for any class cannot be less than n_splits=3.\n",
      "  % (min_groups, self.n_splits)), Warning)\n",
      "C:\\Anaconda3\\lib\\site-packages\\sklearn\\model_selection\\_split.py:581: Warning: The least populated class in y has only 1 members, which is too few. The minimum number of groups for any class cannot be less than n_splits=3.\n",
      "  % (min_groups, self.n_splits)), Warning)\n",
      "C:\\Anaconda3\\lib\\site-packages\\sklearn\\model_selection\\_split.py:581: Warning: The least populated class in y has only 1 members, which is too few. The minimum number of groups for any class cannot be less than n_splits=3.\n",
      "  % (min_groups, self.n_splits)), Warning)\n",
      "C:\\Anaconda3\\lib\\site-packages\\sklearn\\model_selection\\_split.py:581: Warning: The least populated class in y has only 1 members, which is too few. The minimum number of groups for any class cannot be less than n_splits=3.\n",
      "  % (min_groups, self.n_splits)), Warning)\n"
     ]
    },
    {
     "name": "stdout",
     "output_type": "stream",
     "text": [
      "0.975116350597\n"
     ]
    }
   ],
   "source": [
    "word_list = ['act','be','have','form','high','play','report','state','use','sum']\n",
    "cross_dict, score_dict = tree_method_on_wordlist(word_list)"
   ]
  },
  {
   "cell_type": "code",
   "execution_count": 12,
   "metadata": {
    "collapsed": false
   },
   "outputs": [
    {
     "data": {
      "text/plain": [
       "{'act': 1.0,\n",
       " 'be': 0.99920634920634921,\n",
       " 'form': 0.95999999999999996,\n",
       " 'have': 1.0,\n",
       " 'high': 0.92000000000000004,\n",
       " 'play': 0.88461538461538458,\n",
       " 'report': 1.0,\n",
       " 'state': 1.0,\n",
       " 'sum': 1.0,\n",
       " 'use': 0.98734177215189878}"
      ]
     },
     "execution_count": 12,
     "metadata": {},
     "output_type": "execute_result"
    }
   ],
   "source": [
    "score_dict"
   ]
  },
  {
   "cell_type": "code",
   "execution_count": 13,
   "metadata": {
    "collapsed": false
   },
   "outputs": [],
   "source": [
    "from sklearn.svm import SVC\n",
    "from sklearn import tree\n",
    "import numpy as np\n",
    "from sklearn.model_selection import GridSearchCV\n",
    "\n",
    "def svm_method(X_train, Y_train, X_test, Y_test):\n",
    "    param_grid = {'C': [10**i for i in range(-4,4)]}\n",
    "    svr = SVC(kernel='linear')\n",
    "    clf = GridSearchCV(svr, param_grid )\n",
    "    clf.fit(X_train, Y_train)\n",
    "\n",
    "    svm_preds = clf.predict(X_test)\n",
    "    score = clf.score(X_test, Y_test)\n",
    "    return svm_preds, score\n",
    "#svm_method(X_train, Y_train, X_test, Y_test)"
   ]
  },
  {
   "cell_type": "code",
   "execution_count": 57,
   "metadata": {
    "collapsed": false
   },
   "outputs": [
    {
     "name": "stderr",
     "output_type": "stream",
     "text": [
      "C:\\Anaconda3\\lib\\site-packages\\sklearn\\model_selection\\_split.py:581: Warning: The least populated class in y has only 2 members, which is too few. The minimum number of groups for any class cannot be less than n_splits=3.\n",
      "  % (min_groups, self.n_splits)), Warning)\n",
      "C:\\Anaconda3\\lib\\site-packages\\sklearn\\model_selection\\_split.py:581: Warning: The least populated class in y has only 1 members, which is too few. The minimum number of groups for any class cannot be less than n_splits=3.\n",
      "  % (min_groups, self.n_splits)), Warning)\n",
      "C:\\Anaconda3\\lib\\site-packages\\sklearn\\model_selection\\_split.py:581: Warning: The least populated class in y has only 2 members, which is too few. The minimum number of groups for any class cannot be less than n_splits=3.\n",
      "  % (min_groups, self.n_splits)), Warning)\n",
      "C:\\Anaconda3\\lib\\site-packages\\sklearn\\model_selection\\_split.py:581: Warning: The least populated class in y has only 1 members, which is too few. The minimum number of groups for any class cannot be less than n_splits=3.\n",
      "  % (min_groups, self.n_splits)), Warning)\n",
      "C:\\Anaconda3\\lib\\site-packages\\sklearn\\model_selection\\_split.py:581: Warning: The least populated class in y has only 2 members, which is too few. The minimum number of groups for any class cannot be less than n_splits=3.\n",
      "  % (min_groups, self.n_splits)), Warning)\n",
      "C:\\Anaconda3\\lib\\site-packages\\sklearn\\model_selection\\_split.py:581: Warning: The least populated class in y has only 1 members, which is too few. The minimum number of groups for any class cannot be less than n_splits=3.\n",
      "  % (min_groups, self.n_splits)), Warning)\n",
      "C:\\Anaconda3\\lib\\site-packages\\sklearn\\model_selection\\_split.py:581: Warning: The least populated class in y has only 1 members, which is too few. The minimum number of groups for any class cannot be less than n_splits=3.\n",
      "  % (min_groups, self.n_splits)), Warning)\n",
      "C:\\Anaconda3\\lib\\site-packages\\sklearn\\model_selection\\_split.py:581: Warning: The least populated class in y has only 1 members, which is too few. The minimum number of groups for any class cannot be less than n_splits=3.\n",
      "  % (min_groups, self.n_splits)), Warning)\n"
     ]
    },
    {
     "name": "stdout",
     "output_type": "stream",
     "text": [
      "0.849171559273\n"
     ]
    }
   ],
   "source": [
    "def svm_method_on_wordlist(word_list):\n",
    "    score_dict={}\n",
    "    cross_dict = {}\n",
    "    for word in word_list:\n",
    "        X_train, X_test, Y_train, Y_test = read_data(word,1)\n",
    "        svm_preds, score = svm_method(X_train, Y_train, X_test, Y_test)\n",
    "        df = pd.DataFrame()\n",
    "        df['truth'] = Y_test\n",
    "        df['predict'] = svm_preds\n",
    "        cross_dict[word] = pd.crosstab(df['truth'], df['predict'], margins=True)\n",
    "        score_dict[word] = score\n",
    "    print(sum(score_dict.values())/len(word_list))\n",
    "    return cross_dict, score_dict\n",
    "cross_dict1, score_dict1 = svm_method_on_wordlist(word_list)"
   ]
  },
  {
   "cell_type": "code",
   "execution_count": 59,
   "metadata": {
    "collapsed": false
   },
   "outputs": [
    {
     "data": {
      "text/plain": [
       "{'act': 1.0,\n",
       " 'be': 0.99920634920634921,\n",
       " 'form': 0.95999999999999996,\n",
       " 'have': 1.0,\n",
       " 'high': 0.92000000000000004,\n",
       " 'play': 0.88461538461538458,\n",
       " 'report': 1.0,\n",
       " 'state': 1.0,\n",
       " 'sum': 1.0,\n",
       " 'use': 0.98734177215189878}"
      ]
     },
     "execution_count": 59,
     "metadata": {},
     "output_type": "execute_result"
    }
   ],
   "source": [
    "score_dict"
   ]
  },
  {
   "cell_type": "code",
   "execution_count": 54,
   "metadata": {
    "collapsed": false
   },
   "outputs": [],
   "source": [
    "def forest_method(X_train, Y_train, X_test, Y_test):\n",
    "    param_grid = {'n_estimators': [10*i for i in range(1,10)]}\n",
    "    svr = RandomForestClassifier() \n",
    "    clf = GridSearchCV(svr, param_grid )\n",
    "    clf.fit(X_train, Y_train)\n",
    "\n",
    "    svm_preds = clf.predict(X_test)\n",
    "    score = clf.score(X_test, Y_test)\n",
    "    return svm_preds, score"
   ]
  },
  {
   "cell_type": "code",
   "execution_count": 55,
   "metadata": {
    "collapsed": false
   },
   "outputs": [
    {
     "name": "stderr",
     "output_type": "stream",
     "text": [
      "C:\\Anaconda3\\lib\\site-packages\\sklearn\\model_selection\\_split.py:581: Warning: The least populated class in y has only 2 members, which is too few. The minimum number of groups for any class cannot be less than n_splits=3.\n",
      "  % (min_groups, self.n_splits)), Warning)\n",
      "C:\\Anaconda3\\lib\\site-packages\\sklearn\\model_selection\\_split.py:581: Warning: The least populated class in y has only 1 members, which is too few. The minimum number of groups for any class cannot be less than n_splits=3.\n",
      "  % (min_groups, self.n_splits)), Warning)\n",
      "C:\\Anaconda3\\lib\\site-packages\\sklearn\\model_selection\\_split.py:581: Warning: The least populated class in y has only 2 members, which is too few. The minimum number of groups for any class cannot be less than n_splits=3.\n",
      "  % (min_groups, self.n_splits)), Warning)\n",
      "C:\\Anaconda3\\lib\\site-packages\\sklearn\\model_selection\\_split.py:581: Warning: The least populated class in y has only 1 members, which is too few. The minimum number of groups for any class cannot be less than n_splits=3.\n",
      "  % (min_groups, self.n_splits)), Warning)\n",
      "C:\\Anaconda3\\lib\\site-packages\\sklearn\\model_selection\\_split.py:581: Warning: The least populated class in y has only 2 members, which is too few. The minimum number of groups for any class cannot be less than n_splits=3.\n",
      "  % (min_groups, self.n_splits)), Warning)\n",
      "C:\\Anaconda3\\lib\\site-packages\\sklearn\\model_selection\\_split.py:581: Warning: The least populated class in y has only 1 members, which is too few. The minimum number of groups for any class cannot be less than n_splits=3.\n",
      "  % (min_groups, self.n_splits)), Warning)\n",
      "C:\\Anaconda3\\lib\\site-packages\\sklearn\\model_selection\\_split.py:581: Warning: The least populated class in y has only 1 members, which is too few. The minimum number of groups for any class cannot be less than n_splits=3.\n",
      "  % (min_groups, self.n_splits)), Warning)\n",
      "C:\\Anaconda3\\lib\\site-packages\\sklearn\\model_selection\\_split.py:581: Warning: The least populated class in y has only 1 members, which is too few. The minimum number of groups for any class cannot be less than n_splits=3.\n",
      "  % (min_groups, self.n_splits)), Warning)\n"
     ]
    },
    {
     "name": "stdout",
     "output_type": "stream",
     "text": [
      "0.944873431688\n"
     ]
    }
   ],
   "source": [
    "def forest_method_on_wordlist(word_list):\n",
    "    score_dict={}\n",
    "    cross_dict = {}\n",
    "    for word in word_list:\n",
    "        X_train, X_test, Y_train, Y_test = read_data(word,1)\n",
    "        svm_preds, score = forest_method(X_train, Y_train, X_test, Y_test)\n",
    "        df = pd.DataFrame()\n",
    "        df['truth'] = Y_test\n",
    "        df['predict'] = svm_preds\n",
    "        cross_dict[word] = pd.crosstab(df['truth'], df['predict'], margins=True)\n",
    "        score_dict[word] = score\n",
    "    print(sum(score_dict.values())/len(word_list))\n",
    "    return cross_dict, score_dict\n",
    "cross_dict2, score_dict2 = forest_method_on_wordlist(word_list)"
   ]
  },
  {
   "cell_type": "code",
   "execution_count": 56,
   "metadata": {
    "collapsed": false
   },
   "outputs": [
    {
     "data": {
      "text/plain": [
       "{'act': 1.0,\n",
       " 'be': 0.99661781285231121,\n",
       " 'form': 0.94444444444444442,\n",
       " 'have': 0.96212121212121215,\n",
       " 'high': 0.875,\n",
       " 'play': 0.9375,\n",
       " 'report': 0.75,\n",
       " 'state': 1.0,\n",
       " 'sum': 1.0,\n",
       " 'use': 0.98305084745762716}"
      ]
     },
     "execution_count": 56,
     "metadata": {},
     "output_type": "execute_result"
    }
   ],
   "source": [
    "score_dict2"
   ]
  }
 ],
 "metadata": {
  "kernelspec": {
   "display_name": "Python 3",
   "language": "python",
   "name": "python3"
  },
  "language_info": {
   "codemirror_mode": {
    "name": "ipython",
    "version": 3
   },
   "file_extension": ".py",
   "mimetype": "text/x-python",
   "name": "python",
   "nbconvert_exporter": "python",
   "pygments_lexer": "ipython3",
   "version": "3.6.0"
  }
 },
 "nbformat": 4,
 "nbformat_minor": 2
}
