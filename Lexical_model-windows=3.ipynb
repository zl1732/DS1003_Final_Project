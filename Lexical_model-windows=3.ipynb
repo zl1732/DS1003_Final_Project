{
 "cells": [
  {
   "cell_type": "code",
   "execution_count": 119,
   "metadata": {
    "collapsed": false
   },
   "outputs": [],
   "source": [
    "import pandas as pd\n",
    "import os\n",
    "import pickle\n",
    "from sklearn.metrics import roc_curve, auc\n",
    "from sklearn.preprocessing import scale\n",
    "from sklearn.cross_validation import train_test_split\n",
    "from sklearn.multiclass import OneVsRestClassifier\n",
    "from sklearn.ensemble import RandomForestClassifier\n",
    "from sklearn.svm import LinearSVC\n",
    "from sklearn import svm\n",
    "from sklearn import metrics\n",
    "from sklearn.preprocessing import LabelEncoder\n",
    "\n",
    "def read_data(name,k):\n",
    "    os.chdir(\"C:\\Spring_2017\\machine_learning\\DS1003_Final_Project\")\n",
    "    dataset = pickle.load( open( \"pos_\" + name + \".p\", \"rb\" ) )\n",
    "    Y = pickle.load( open( \"tar_\" + name + \".p\", \"rb\" ) )\n",
    "\n",
    "    dataset.columns = ['p-3','p-2','p-1','p0','p+1','p+2','p+3']\n",
    "    dataset['Y'] = Y\n",
    "    dataset['flag'] = (dataset==\"None\").sum(axis=1)<k\n",
    "    dataset = dataset[dataset['Y'].str.contains(\"\\.\")]\n",
    "    dataset = dataset[dataset['flag'] == True]\n",
    "\n",
    "    lab = 'Y'\n",
    "    Y = dataset[lab]\n",
    "    X = dataset.drop(['flag'], 1)\n",
    "    X =  X.apply(LabelEncoder().fit_transform)\n",
    "    X_train, X_test, Y_train, Y_test = train_test_split(X, Y, test_size=0.2, random_state=42)\n",
    "\n",
    "    Y_train = pd.Series(Y_train)    \n",
    "    Y_test = pd.Series(Y_test)\n",
    "    return X_train, X_test, Y_train, Y_test"
   ]
  },
  {
   "cell_type": "code",
   "execution_count": 128,
   "metadata": {
    "collapsed": false
   },
   "outputs": [
    {
     "name": "stdout",
     "output_type": "stream",
     "text": [
      "  act :  0.217391304348\n",
      "  be :  0.594564145895\n",
      "  have :  0.354166666667\n",
      "  form :  0.330935251799\n",
      "  high :  0.465838509317\n",
      "  play :  0.306569343066\n",
      "  report :  0.431034482759\n",
      "  state :  0.870498084291\n",
      "  use :  0.780429594272\n",
      "  sum :  0.486486486486\n"
     ]
    },
    {
     "data": {
      "text/plain": [
       "0.48379138688988332"
      ]
     },
     "execution_count": 128,
     "metadata": {},
     "output_type": "execute_result"
    }
   ],
   "source": [
    "# Baseline accuracy\n",
    "avg = []\n",
    "for word in word_list:\n",
    "    Y = pickle.load( open( \"tar_\" + word + \".p\", \"rb\" ) )\n",
    "    print(\" \",word,\": \",Y.describe()[3]/Y.describe()[0])\n",
    "    avg.append(Y.describe()[3]/Y.describe()[0])\n",
    "sum(avg)/10"
   ]
  },
  {
   "cell_type": "code",
   "execution_count": 121,
   "metadata": {
    "collapsed": false
   },
   "outputs": [],
   "source": [
    "from sklearn import tree\n",
    "import numpy as np\n",
    "from sklearn.model_selection import GridSearchCV\n",
    "\n",
    "def tree_method(X_train, Y_train, X_test, Y_test):\n",
    "    param_grid = {'max_depth': np.arange(2,30)}\n",
    "    svr = tree.DecisionTreeClassifier()\n",
    "    clf = GridSearchCV(svr, param_grid )\n",
    "    clf.fit(X_train, Y_train)\n",
    "\n",
    "    tree_preds = clf.predict(X_test)\n",
    "    score = clf.score(X_test, Y_test)\n",
    "    return tree_preds, score"
   ]
  },
  {
   "cell_type": "code",
   "execution_count": 122,
   "metadata": {
    "collapsed": false
   },
   "outputs": [],
   "source": [
    "def tree_method_on_wordlist(word_list):\n",
    "    score_dict={}\n",
    "    cross_dict = {}\n",
    "    for word in word_list:\n",
    "        X_train, X_test, Y_train, Y_test = read_data(word,100)\n",
    "        tree_preds, score = tree_method(X_train, Y_train, X_test, Y_test)\n",
    "        df = pd.DataFrame()\n",
    "        df['truth'] = Y_test\n",
    "        df['predict'] = tree_preds\n",
    "        cross_dict[word] = pd.crosstab(df['truth'], df['predict'], margins=True)\n",
    "        score_dict[word] = score\n",
    "    print(sum(score_dict.values())/len(word_list))\n",
    "    return cross_dict, score_dict"
   ]
  },
  {
   "cell_type": "code",
   "execution_count": 123,
   "metadata": {
    "collapsed": false
   },
   "outputs": [
    {
     "name": "stderr",
     "output_type": "stream",
     "text": [
      "C:\\Anaconda3\\lib\\site-packages\\sklearn\\model_selection\\_split.py:581: Warning: The least populated class in y has only 1 members, which is too few. The minimum number of groups for any class cannot be less than n_splits=3.\n",
      "  % (min_groups, self.n_splits)), Warning)\n",
      "C:\\Anaconda3\\lib\\site-packages\\sklearn\\model_selection\\_split.py:581: Warning: The least populated class in y has only 1 members, which is too few. The minimum number of groups for any class cannot be less than n_splits=3.\n",
      "  % (min_groups, self.n_splits)), Warning)\n",
      "C:\\Anaconda3\\lib\\site-packages\\sklearn\\model_selection\\_split.py:581: Warning: The least populated class in y has only 2 members, which is too few. The minimum number of groups for any class cannot be less than n_splits=3.\n",
      "  % (min_groups, self.n_splits)), Warning)\n",
      "C:\\Anaconda3\\lib\\site-packages\\sklearn\\model_selection\\_split.py:581: Warning: The least populated class in y has only 1 members, which is too few. The minimum number of groups for any class cannot be less than n_splits=3.\n",
      "  % (min_groups, self.n_splits)), Warning)\n",
      "C:\\Anaconda3\\lib\\site-packages\\sklearn\\model_selection\\_split.py:581: Warning: The least populated class in y has only 1 members, which is too few. The minimum number of groups for any class cannot be less than n_splits=3.\n",
      "  % (min_groups, self.n_splits)), Warning)\n",
      "C:\\Anaconda3\\lib\\site-packages\\sklearn\\model_selection\\_split.py:581: Warning: The least populated class in y has only 1 members, which is too few. The minimum number of groups for any class cannot be less than n_splits=3.\n",
      "  % (min_groups, self.n_splits)), Warning)\n"
     ]
    },
    {
     "name": "stdout",
     "output_type": "stream",
     "text": [
      "0.961479986961\n"
     ]
    }
   ],
   "source": [
    "word_list = ['act','be','have','form','high','play','report','state','use','sum']\n",
    "cross_dict, score_dict = tree_method_on_wordlist(word_list)"
   ]
  },
  {
   "cell_type": "code",
   "execution_count": 124,
   "metadata": {
    "collapsed": false
   },
   "outputs": [
    {
     "data": {
      "text/plain": [
       "{'act': 1.0,\n",
       " 'be': 0.99920634920634921,\n",
       " 'form': 0.95999999999999996,\n",
       " 'have': 1.0,\n",
       " 'high': 0.92000000000000004,\n",
       " 'play': 0.88461538461538458,\n",
       " 'report': 0.86363636363636365,\n",
       " 'state': 1.0,\n",
       " 'sum': 1.0,\n",
       " 'use': 0.98734177215189878}"
      ]
     },
     "execution_count": 124,
     "metadata": {},
     "output_type": "execute_result"
    }
   ],
   "source": [
    "score_dict"
   ]
  },
  {
   "cell_type": "code",
   "execution_count": 65,
   "metadata": {
    "collapsed": false
   },
   "outputs": [],
   "source": [
    "from sklearn.svm import SVC\n",
    "from sklearn import tree\n",
    "import numpy as np\n",
    "from sklearn.model_selection import GridSearchCV\n",
    "\n",
    "def svm_method(X_train, Y_train, X_test, Y_test):\n",
    "    param_grid = {'C': [10**i for i in range(-4,4)]}\n",
    "    svr = SVC(kernel='linear')\n",
    "    clf = GridSearchCV(svr, param_grid )\n",
    "    clf.fit(X_train, Y_train)\n",
    "\n",
    "    svm_preds = clf.predict(X_test)\n",
    "    score = clf.score(X_test, Y_test)\n",
    "    return svm_preds, score\n",
    "#svm_method(X_train, Y_train, X_test, Y_test)"
   ]
  },
  {
   "cell_type": "code",
   "execution_count": 97,
   "metadata": {
    "collapsed": false
   },
   "outputs": [
    {
     "name": "stderr",
     "output_type": "stream",
     "text": [
      "C:\\Anaconda3\\lib\\site-packages\\sklearn\\model_selection\\_split.py:581: Warning: The least populated class in y has only 1 members, which is too few. The minimum number of groups for any class cannot be less than n_splits=3.\n",
      "  % (min_groups, self.n_splits)), Warning)\n",
      "C:\\Anaconda3\\lib\\site-packages\\sklearn\\model_selection\\_split.py:581: Warning: The least populated class in y has only 1 members, which is too few. The minimum number of groups for any class cannot be less than n_splits=3.\n",
      "  % (min_groups, self.n_splits)), Warning)\n",
      "C:\\Anaconda3\\lib\\site-packages\\sklearn\\model_selection\\_split.py:581: Warning: The least populated class in y has only 2 members, which is too few. The minimum number of groups for any class cannot be less than n_splits=3.\n",
      "  % (min_groups, self.n_splits)), Warning)\n",
      "C:\\Anaconda3\\lib\\site-packages\\sklearn\\model_selection\\_split.py:581: Warning: The least populated class in y has only 1 members, which is too few. The minimum number of groups for any class cannot be less than n_splits=3.\n",
      "  % (min_groups, self.n_splits)), Warning)\n",
      "C:\\Anaconda3\\lib\\site-packages\\sklearn\\model_selection\\_split.py:581: Warning: The least populated class in y has only 1 members, which is too few. The minimum number of groups for any class cannot be less than n_splits=3.\n",
      "  % (min_groups, self.n_splits)), Warning)\n",
      "C:\\Anaconda3\\lib\\site-packages\\sklearn\\model_selection\\_split.py:581: Warning: The least populated class in y has only 1 members, which is too few. The minimum number of groups for any class cannot be less than n_splits=3.\n",
      "  % (min_groups, self.n_splits)), Warning)\n",
      "C:\\Anaconda3\\lib\\site-packages\\sklearn\\model_selection\\_split.py:581: Warning: The least populated class in y has only 1 members, which is too few. The minimum number of groups for any class cannot be less than n_splits=3.\n",
      "  % (min_groups, self.n_splits)), Warning)\n",
      "C:\\Anaconda3\\lib\\site-packages\\sklearn\\model_selection\\_split.py:581: Warning: The least populated class in y has only 1 members, which is too few. The minimum number of groups for any class cannot be less than n_splits=3.\n",
      "  % (min_groups, self.n_splits)), Warning)\n"
     ]
    },
    {
     "name": "stdout",
     "output_type": "stream",
     "text": [
      "0.855825757576\n"
     ]
    }
   ],
   "source": [
    "def svm_method_on_wordlist(word_list):\n",
    "    score_dict={}\n",
    "    cross_dict = {}\n",
    "    for word in word_list:\n",
    "        X_train, X_test, Y_train, Y_test = read_data(word,1)\n",
    "        svm_preds, score = svm_method(X_train, Y_train, X_test, Y_test)\n",
    "        df = pd.DataFrame()\n",
    "        df['truth'] = Y_test\n",
    "        df['predict'] = svm_preds\n",
    "        cross_dict[word] = pd.crosstab(df['truth'], df['predict'], margins=True)\n",
    "        score_dict[word] = score\n",
    "    print(sum(score_dict.values())/len(word_list))\n",
    "    return cross_dict, score_dict\n",
    "cross_dict1, score_dict1 = svm_method_on_wordlist(word_list)"
   ]
  },
  {
   "cell_type": "code",
   "execution_count": 129,
   "metadata": {
    "collapsed": false
   },
   "outputs": [
    {
     "data": {
      "text/html": [
       "<div>\n",
       "<table border=\"1\" class=\"dataframe\">\n",
       "  <thead>\n",
       "    <tr style=\"text-align: right;\">\n",
       "      <th>predict</th>\n",
       "      <th>report.n.01</th>\n",
       "      <th>report.n.03</th>\n",
       "      <th>report.v.01</th>\n",
       "      <th>report.v.02</th>\n",
       "      <th>All</th>\n",
       "    </tr>\n",
       "    <tr>\n",
       "      <th>truth</th>\n",
       "      <th></th>\n",
       "      <th></th>\n",
       "      <th></th>\n",
       "      <th></th>\n",
       "      <th></th>\n",
       "    </tr>\n",
       "  </thead>\n",
       "  <tbody>\n",
       "    <tr>\n",
       "      <th>report.n.01</th>\n",
       "      <td>2</td>\n",
       "      <td>0</td>\n",
       "      <td>0</td>\n",
       "      <td>0</td>\n",
       "      <td>2</td>\n",
       "    </tr>\n",
       "    <tr>\n",
       "      <th>report.n.02</th>\n",
       "      <td>2</td>\n",
       "      <td>0</td>\n",
       "      <td>0</td>\n",
       "      <td>0</td>\n",
       "      <td>2</td>\n",
       "    </tr>\n",
       "    <tr>\n",
       "      <th>report.v.01</th>\n",
       "      <td>0</td>\n",
       "      <td>0</td>\n",
       "      <td>7</td>\n",
       "      <td>1</td>\n",
       "      <td>8</td>\n",
       "    </tr>\n",
       "    <tr>\n",
       "      <th>report.v.02</th>\n",
       "      <td>0</td>\n",
       "      <td>1</td>\n",
       "      <td>0</td>\n",
       "      <td>0</td>\n",
       "      <td>1</td>\n",
       "    </tr>\n",
       "    <tr>\n",
       "      <th>report.v.03</th>\n",
       "      <td>0</td>\n",
       "      <td>0</td>\n",
       "      <td>0</td>\n",
       "      <td>1</td>\n",
       "      <td>1</td>\n",
       "    </tr>\n",
       "    <tr>\n",
       "      <th>All</th>\n",
       "      <td>4</td>\n",
       "      <td>1</td>\n",
       "      <td>7</td>\n",
       "      <td>2</td>\n",
       "      <td>14</td>\n",
       "    </tr>\n",
       "  </tbody>\n",
       "</table>\n",
       "</div>"
      ],
      "text/plain": [
       "predict      report.n.01  report.n.03  report.v.01  report.v.02  All\n",
       "truth                                                               \n",
       "report.n.01            2            0            0            0    2\n",
       "report.n.02            2            0            0            0    2\n",
       "report.v.01            0            0            7            1    8\n",
       "report.v.02            0            1            0            0    1\n",
       "report.v.03            0            0            0            1    1\n",
       "All                    4            1            7            2   14"
      ]
     },
     "execution_count": 129,
     "metadata": {},
     "output_type": "execute_result"
    }
   ],
   "source": [
    "cross_dict1['report']"
   ]
  },
  {
   "cell_type": "code",
   "execution_count": 95,
   "metadata": {
    "collapsed": false
   },
   "outputs": [
    {
     "name": "stdout",
     "output_type": "stream",
     "text": [
      "0.36\n",
      "0.64\n",
      "0.4230769230769231\n",
      "0.45454545454545453\n",
      "0.9083665338645418\n",
      "0.8227848101265823\n"
     ]
    }
   ],
   "source": [
    "\n",
    "print(9/25)\n",
    "print(16/25)\n",
    "print(11/26)\n",
    "print(10/22)\n",
    "print(228/251)\n",
    "print(65/79)"
   ]
  },
  {
   "cell_type": "code",
   "execution_count": 1048,
   "metadata": {
    "collapsed": false
   },
   "outputs": [
    {
     "data": {
      "text/plain": [
       "0.98132935026138912"
      ]
     },
     "execution_count": 1048,
     "metadata": {},
     "output_type": "execute_result"
    }
   ],
   "source": [
    "model = RandomForestClassifier(n_estimators = 50) \n",
    "model = model.fit( X_train, Y_train)\n",
    "tree_preds = model.predict(X_test)\n",
    "sum(tree_preds == Y_test)/len(tree_preds)\n",
    "#Y_test.unique()"
   ]
  },
  {
   "cell_type": "code",
   "execution_count": 1082,
   "metadata": {
    "collapsed": false
   },
   "outputs": [],
   "source": [
    "df = pd.DataFrame()\n",
    "df['truth'] = Y_test\n",
    "df['predict'] = tree_preds\n",
    "\n",
    "# Cross-tabulate predictions\n",
    "#print(pd.crosstab(df['truth'], df['predict'], margins=True))"
   ]
  }
 ],
 "metadata": {
  "kernelspec": {
   "display_name": "Python 3",
   "language": "python",
   "name": "python3"
  },
  "language_info": {
   "codemirror_mode": {
    "name": "ipython",
    "version": 3
   },
   "file_extension": ".py",
   "mimetype": "text/x-python",
   "name": "python",
   "nbconvert_exporter": "python",
   "pygments_lexer": "ipython3",
   "version": "3.6.0"
  }
 },
 "nbformat": 4,
 "nbformat_minor": 2
}
