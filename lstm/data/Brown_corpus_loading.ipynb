{
 "cells": [
  {
   "cell_type": "code",
   "execution_count": 18,
   "metadata": {
    "collapsed": false
   },
   "outputs": [],
   "source": [
    "from nltk.corpus import brown\n",
    "sentences = [' '.join(sent) for sent in brown.sents()]\n",
    "\n",
    "train = sentences[:50000]\n",
    "valid = sentences[50000:55000]\n",
    "test = sentences[55000:]\n",
    "\n",
    "train_txt = '\\n'.join(train)\n",
    "valid_txt = '\\n'.join(valid)\n",
    "test_txt = '\\n'.join(test)\n",
    "\n",
    "#Save as txt\n",
    "train_file = open('./brown/train.txt','w')\n",
    "valid_file = open('./brown/valid.txt','w')\n",
    "test_file = open('./brown/test.txt','w')\n",
    "\n",
    "train_file.write(train_txt)\n",
    "valid_file.write(valid_txt)\n",
    "test_file.write(test_txt)\n",
    "\n",
    "train_file.close()\n",
    "valid_file.close()\n",
    "test_file.close()"
   ]
  }
 ],
 "metadata": {
  "anaconda-cloud": {},
  "kernelspec": {
   "display_name": "Python [conda env:py35]",
   "language": "python",
   "name": "conda-env-py35-py"
  },
  "language_info": {
   "codemirror_mode": {
    "name": "ipython",
    "version": 3
   },
   "file_extension": ".py",
   "mimetype": "text/x-python",
   "name": "python",
   "nbconvert_exporter": "python",
   "pygments_lexer": "ipython3",
   "version": "3.5.2"
  }
 },
 "nbformat": 4,
 "nbformat_minor": 1
}
