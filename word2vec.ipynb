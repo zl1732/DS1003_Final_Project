{
 "cells": [
  {
   "cell_type": "markdown",
   "metadata": {},
   "source": [
    "# Word2vec context nearest neighbour model"
   ]
  },
  {
   "cell_type": "code",
   "execution_count": 318,
   "metadata": {
    "collapsed": true
   },
   "outputs": [],
   "source": [
    "#package to load word2vec vectors\n",
    "import gensim\n",
    "from gensim.models.keyedvectors import KeyedVectors\n",
    "#self built functions\n",
    "import utilities\n",
    "#semcor corpus\n",
    "import nltk\n",
    "from nltk.corpus import semcor\n",
    "from nltk.corpus import wordnet as wn\n",
    "#Micellaneous\n",
    "import numpy as np\n",
    "import collections\n",
    "from scipy.spatial.distance import cosine\n",
    "import sys\n",
    "import re\n",
    "import time\n",
    "import progressbar\n",
    "import pickle\n",
    "from functools import partial"
   ]
  },
  {
   "cell_type": "code",
   "execution_count": 184,
   "metadata": {
    "collapsed": false
   },
   "outputs": [],
   "source": [
    "#Load word2vec binary file\n",
    "model = KeyedVectors.load_word2vec_format('../datasets/word2vec/GoogleNews-vectors-negative300.bin', binary=True)\n",
    "#Define embedding_dict\n",
    "embedding_dict = model.word_vec\n",
    "#Load semcor\n",
    "tagged_chunks = semcor.tagged_chunks(tag='sem')"
   ]
  },
  {
   "cell_type": "code",
   "execution_count": 207,
   "metadata": {
    "collapsed": false
   },
   "outputs": [],
   "source": [
    "#Progress bar utilities\n",
    "class ProgressBar(object):\n",
    "    DEFAULT = 'Progress: %(bar)s %(percent)3d%%'\n",
    "    FULL = '%(bar)s %(current)d/%(total)d (%(percent)3d%%) %(remaining)d to go'\n",
    "\n",
    "    def __init__(self, total, width=40, fmt=DEFAULT, symbol='=',\n",
    "                 output=sys.stderr):\n",
    "        assert len(symbol) == 1\n",
    "\n",
    "        self.total = total\n",
    "        self.width = width\n",
    "        self.symbol = symbol\n",
    "        self.output = output\n",
    "        self.fmt = re.sub(r'(?P<name>%\\(.+?\\))d',\n",
    "            r'\\g<name>%dd' % len(str(total)), fmt)\n",
    "\n",
    "        self.current = 0\n",
    "\n",
    "    def __call__(self):\n",
    "        percent = self.current / float(self.total)\n",
    "        size = int(self.width * percent)\n",
    "        remaining = self.total - self.current\n",
    "        bar = '[' + self.symbol * size + ' ' * (self.width - size) + ']'\n",
    "\n",
    "        args = {\n",
    "            'total': self.total,\n",
    "            'bar': bar,\n",
    "            'current': self.current,\n",
    "            'percent': percent * 100,\n",
    "            'remaining': remaining\n",
    "        }\n",
    "        print('\\r' + self.fmt % args, file=self.output, end='')\n",
    "\n",
    "    def done(self):\n",
    "        self.current = self.total\n",
    "        self()\n",
    "        print('', file=self.output)"
   ]
  },
  {
   "cell_type": "code",
   "execution_count": 325,
   "metadata": {
    "collapsed": false
   },
   "outputs": [],
   "source": [
    "#prediction method\n",
    "def predict(context,predict_lemmas):\n",
    "    #senses_choices must be a python list of sense label (wordnet synset)\n",
    "    #get context embedding\n",
    "    context_emb = getContextEmb_word2vec(context=context,emb_size=300,embedding_dict=embedding_dict)\n",
    "    #get senses choice\n",
    "    synsets = wn.synsets(predict_lemmas)\n",
    "    senses_choices = [synset.name() for synset in synsets]\n",
    "    #calculate cosine distance between each sense and context\n",
    "    decision_chart = [[choice,cosine(context_emb,sense_embeddings[choice])] for choice in senses_choices]\n",
    "    prediction = sorted(decision_chart,key=lambda x:x[1])[0][0]\n",
    "    return prediction\n",
    "def get_context(tagged_chunks,position,window_size):\n",
    "    center = tagged_chunks[position].leaves()\n",
    "    num_words = 0\n",
    "    iter_position = position\n",
    "    #unroll left size\n",
    "    left = []\n",
    "    right = []\n",
    "    while (num_words<window_size):\n",
    "        iter_position-=1\n",
    "        if iter_position <0:\n",
    "            break\n",
    "        item = tagged_chunks[iter_position]\n",
    "        if type(item)==list:\n",
    "            num_words +=1\n",
    "            left.insert(0,item[0])\n",
    "        elif type(item)==nltk.tree.Tree:\n",
    "            words2append = item.leaves()\n",
    "            if num_words+len(words2append)>window_size:\n",
    "                num_allowed = window_size-num_words\n",
    "                words2append=words2append[-num_allowed:]\n",
    "            num_words += len(words2append)\n",
    "            left = words2append+left\n",
    "            \n",
    "    num_words = 0\n",
    "    iter_position = position\n",
    "    while (num_words<window_size):\n",
    "        iter_position+=1\n",
    "        if iter_position >=len(tagged_chunks):\n",
    "            break\n",
    "        item = tagged_chunks[iter_position]\n",
    "        if type(item)==list:\n",
    "            num_words +=1\n",
    "            right.append(item[0])\n",
    "        elif type(item)==nltk.tree.Tree:\n",
    "            words2append = item.leaves()\n",
    "            if num_words+len(words2append)>window_size:\n",
    "                num_allowed = window_size-num_words\n",
    "                words2append=words2append[:num_allowed]\n",
    "            num_words += len(words2append)\n",
    "            right = right+words2append\n",
    "    return left+center+right\n",
    "\n",
    "def getContextEmb_word2vec(context,embedding_dict,emb_size,unk_emb=np.zeros(300)):\n",
    "    # Input introductions\n",
    "    # sentence: an array of tokens of untagged sentence. \n",
    "    # center: position of the center word\n",
    "    # window_size: size of context window\n",
    "    # embedding_Dict: gensim model method\n",
    "    ################################################################\n",
    "        output_embedding = np.zeros(emb_size)\n",
    "        for word in context:\n",
    "            try:\n",
    "                output_embedding+=embedding_dict(word)#use gensim model method\n",
    "            except:\n",
    "                output_embedding+=unk_emb\n",
    "        return output_embedding\n",
    "    \n",
    "def buildSemEmb_word2vec(tagged_chunks,embedding_dict,emb_size=300,window_size=4):\n",
    "    progress = progressbar.ProgressBar(max_value=len(tagged_chunks))\n",
    "    output_dict = collections.defaultdict(partial(np.zeros,emb_size))\n",
    "    for idx in range(len(tagged_chunks)):\n",
    "        progress.update(idx)\n",
    "        itm=tagged_chunks[idx]\n",
    "        if(type(itm))==list:\n",
    "            continue\n",
    "        else:\n",
    "            #Use try except handling since some of the label is broken\n",
    "            try:\n",
    "                sense_index = itm.label().synset().name()\n",
    "            except:\n",
    "                continue\n",
    "            context = get_context(position=idx,tagged_chunks=tagged_chunks,window_size=window_size)\n",
    "            context_emb = getContextEmb_word2vec(context,embedding_dict=embedding_dict,emb_size=300)\n",
    "            output_dict[sense_index]+=context_emb\n",
    "    return output_dict"
   ]
  },
  {
   "cell_type": "code",
   "execution_count": 210,
   "metadata": {
    "collapsed": false
   },
   "outputs": [
    {
     "name": "stderr",
     "output_type": "stream",
     "text": [
      "[========================================] 778587/778587 (100%)      0 to go\n"
     ]
    }
   ],
   "source": [
    "#build sense embeddings\n",
    "sense_embeddings = buildSemEmb_word2vec(tagged_chunks=tagged_chunks,embedding_dict=embedding_dict)"
   ]
  },
  {
   "cell_type": "code",
   "execution_count": 326,
   "metadata": {
    "collapsed": false
   },
   "outputs": [
    {
     "name": "stderr",
     "output_type": "stream",
     "text": [
      " 99% (778332 of 778587) |################# | Elapsed Time: 0:16:06 ETA: 0:00:00"
     ]
    }
   ],
   "source": [
    "sense_mebeddings_win5 = buildSemEmb_word2vec(tagged_chunks=tagged_chunks,embedding_dict=embedding_dict,window_size=5)"
   ]
  },
  {
   "cell_type": "code",
   "execution_count": 328,
   "metadata": {
    "collapsed": true
   },
   "outputs": [],
   "source": [
    "f = open('sense_win5.pk','wb')\n",
    "pickle.dump(obj=sense_mebeddings_win5,file=f)"
   ]
  },
  {
   "cell_type": "code",
   "execution_count": 329,
   "metadata": {
    "collapsed": true
   },
   "outputs": [],
   "source": [
    "f.close()"
   ]
  },
  {
   "cell_type": "markdown",
   "metadata": {},
   "source": [
    "# Attempt: trying to classify some ambiguous word"
   ]
  },
  {
   "cell_type": "code",
   "execution_count": 285,
   "metadata": {
    "collapsed": false
   },
   "outputs": [
    {
     "name": "stdout",
     "output_type": "stream",
     "text": [
      "lemma to predict:(Lemma('probe.n.01.investigation') investigation)\n",
      "context:Grand Jury said Friday an investigation of Atlanta 's recent primary\n",
      "\n",
      "Final decision: probe.n.01\n"
     ]
    }
   ],
   "source": [
    "#Example test\n",
    "example = chunks[:30]\n",
    "context = get_context(position=5,tagged_chunks=example,window_size=5)\n",
    "print('lemma to predict:%s'%(example[5]))\n",
    "print('context:%s'%(' '.join(context)))\n",
    "senses_choices = example[5]\n",
    "print()\n",
    "print('Final decision: %s'%(predict(context=context,predict_lemmas='investigation')))"
   ]
  },
  {
   "cell_type": "markdown",
   "metadata": {},
   "source": [
    "## Notice how closed possible senses are"
   ]
  },
  {
   "cell_type": "code",
   "execution_count": 259,
   "metadata": {
    "collapsed": false
   },
   "outputs": [
    {
     "name": "stdout",
     "output_type": "stream",
     "text": [
      "Synset('probe.n.01')\n",
      "an inquiry into unfamiliar or questionable activities\n"
     ]
    }
   ],
   "source": [
    "print(wn.synsets('investigation')[0])\n",
    "print(wn.synsets('investigation')[0].definition())"
   ]
  },
  {
   "cell_type": "code",
   "execution_count": 260,
   "metadata": {
    "collapsed": false
   },
   "outputs": [
    {
     "name": "stdout",
     "output_type": "stream",
     "text": [
      "Synset('investigation.n.02')\n",
      "the work of inquiring into something thoroughly and systematically\n"
     ]
    }
   ],
   "source": [
    "print(wn.synsets('investigation')[1])\n",
    "print(wn.synsets('investigation')[1].definition())"
   ]
  },
  {
   "cell_type": "code",
   "execution_count": 281,
   "metadata": {
    "collapsed": false
   },
   "outputs": [
    {
     "data": {
      "text/plain": [
       "'primary_election'"
      ]
     },
     "execution_count": 281,
     "metadata": {},
     "output_type": "execute_result"
    }
   ],
   "source": [
    "lemma = example[10]\n",
    "lemma.label().name()"
   ]
  },
  {
   "cell_type": "markdown",
   "metadata": {},
   "source": [
    "# Perform all-words WSD"
   ]
  },
  {
   "cell_type": "code",
   "execution_count": 327,
   "metadata": {
    "collapsed": false
   },
   "outputs": [],
   "source": [
    "def predict_all(tagged_chunks,window_size = 4):\n",
    "    progress = progressbar.ProgressBar(max_value=len(tagged_chunks))\n",
    "    output_dict = collections.defaultdict(lambda: np.zeros(emb_size))\n",
    "    #count_dict = collections.defaultdict(lambda: 0)\n",
    "    num_correct = 0\n",
    "    num_predicted = 0.0\n",
    "    for idx in range(len(tagged_chunks)):\n",
    "        progress.update(idx)\n",
    "        itm=tagged_chunks[idx]\n",
    "        if (idx%100000==0)&(num_predicted>0):\n",
    "            print('correct: %s, predicted: %s, accuracy: %s'%(num_correct,num_predicted,num_correct/num_predicted))\n",
    "        if(type(itm))==list:\n",
    "            continue\n",
    "        else:\n",
    "            #Use try except handling since some of the label is broken\n",
    "            try:\n",
    "                lemma = itm.label().name()\n",
    "            except:\n",
    "                continue\n",
    "            context = get_context(position=idx,tagged_chunks=tagged_chunks,window_size=window_size)\n",
    "            prediction = predict(context=context,predict_lemmas=lemma)\n",
    "            correct = itm.label().synset().name()\n",
    "            num_predicted +=1\n",
    "            if prediction == correct:\n",
    "                num_correct+=1\n",
    "    return num_correct/num_predicted"
   ]
  },
  {
   "cell_type": "code",
   "execution_count": 297,
   "metadata": {
    "collapsed": false
   },
   "outputs": [
    {
     "name": "stderr",
     "output_type": "stream",
     "text": [
      "[                                        ]  10069/778587 (  1%) 768518 to go"
     ]
    },
    {
     "name": "stdout",
     "output_type": "stream",
     "text": [
      "correct: 3669, predicted: 4822.0, accuracy: 0.7608875985068436\n"
     ]
    },
    {
     "name": "stderr",
     "output_type": "stream",
     "text": [
      "[=                                       ]  20046/778587 (  2%) 758541 to go"
     ]
    },
    {
     "name": "stdout",
     "output_type": "stream",
     "text": [
      "correct: 7121, predicted: 9430.0, accuracy: 0.7551431601272535\n"
     ]
    },
    {
     "name": "stderr",
     "output_type": "stream",
     "text": [
      "[=                                       ]  30045/778587 (  3%) 748542 to go"
     ]
    },
    {
     "name": "stdout",
     "output_type": "stream",
     "text": [
      "correct: 10418, predicted: 13917.0, accuracy: 0.7485808723144356\n"
     ]
    },
    {
     "name": "stderr",
     "output_type": "stream",
     "text": [
      "[==                                      ]  40028/778587 (  5%) 738559 to go"
     ]
    },
    {
     "name": "stdout",
     "output_type": "stream",
     "text": [
      "correct: 13754, predicted: 18493.0, accuracy: 0.7437408749256476\n"
     ]
    },
    {
     "name": "stderr",
     "output_type": "stream",
     "text": [
      "[==                                      ]  50030/778587 (  6%) 728557 to go"
     ]
    },
    {
     "name": "stdout",
     "output_type": "stream",
     "text": [
      "correct: 17323, predicted: 23282.0, accuracy: 0.7440511983506571\n"
     ]
    },
    {
     "name": "stderr",
     "output_type": "stream",
     "text": [
      "[===                                     ]  60008/778587 (  7%) 718579 to go"
     ]
    },
    {
     "name": "stdout",
     "output_type": "stream",
     "text": [
      "correct: 20779, predicted: 27909.0, accuracy: 0.744526855136336\n"
     ]
    },
    {
     "name": "stderr",
     "output_type": "stream",
     "text": [
      "[===                                     ]  70065/778587 (  8%) 708522 to go"
     ]
    },
    {
     "name": "stdout",
     "output_type": "stream",
     "text": [
      "correct: 24439, predicted: 32551.0, accuracy: 0.7507910663266874\n"
     ]
    },
    {
     "name": "stderr",
     "output_type": "stream",
     "text": [
      "[====                                    ]  80063/778587 ( 10%) 698524 to go"
     ]
    },
    {
     "name": "stdout",
     "output_type": "stream",
     "text": [
      "correct: 28138, predicted: 37226.0, accuracy: 0.7558695535378499\n"
     ]
    },
    {
     "name": "stderr",
     "output_type": "stream",
     "text": [
      "[====                                    ]  90007/778587 ( 11%) 688580 to go"
     ]
    },
    {
     "name": "stdout",
     "output_type": "stream",
     "text": [
      "correct: 31786, predicted: 42011.0, accuracy: 0.756611363690462\n"
     ]
    },
    {
     "name": "stderr",
     "output_type": "stream",
     "text": [
      "[=====                                   ] 100089/778587 ( 12%) 678498 to go"
     ]
    },
    {
     "name": "stdout",
     "output_type": "stream",
     "text": [
      "correct: 35581, predicted: 46755.0, accuracy: 0.7610095176986419\n"
     ]
    },
    {
     "name": "stderr",
     "output_type": "stream",
     "text": [
      "[=====                                   ] 110045/778587 ( 14%) 668542 to go"
     ]
    },
    {
     "name": "stdout",
     "output_type": "stream",
     "text": [
      "correct: 38617, predicted: 50835.0, accuracy: 0.7596537818432183\n"
     ]
    },
    {
     "name": "stderr",
     "output_type": "stream",
     "text": [
      "[======                                  ] 120097/778587 ( 15%) 658490 to go"
     ]
    },
    {
     "name": "stdout",
     "output_type": "stream",
     "text": [
      "correct: 42091, predicted: 55510.0, accuracy: 0.7582597730138714\n"
     ]
    },
    {
     "name": "stderr",
     "output_type": "stream",
     "text": [
      "[======                                  ] 130001/778587 ( 16%) 648586 to go"
     ]
    },
    {
     "name": "stdout",
     "output_type": "stream",
     "text": [
      "correct: 45583, predicted: 60194.0, accuracy: 0.7572681662624182\n"
     ]
    },
    {
     "name": "stderr",
     "output_type": "stream",
     "text": [
      "[=======                                 ] 140097/778587 ( 17%) 638490 to go"
     ]
    },
    {
     "name": "stdout",
     "output_type": "stream",
     "text": [
      "correct: 49059, predicted: 64855.0, accuracy: 0.7564412921131756\n"
     ]
    },
    {
     "name": "stderr",
     "output_type": "stream",
     "text": [
      "[=======                                 ] 150009/778587 ( 19%) 628578 to go"
     ]
    },
    {
     "name": "stdout",
     "output_type": "stream",
     "text": [
      "correct: 52031, predicted: 69189.0, accuracy: 0.7520126031594617\n"
     ]
    },
    {
     "name": "stderr",
     "output_type": "stream",
     "text": [
      "[========                                ] 160034/778587 ( 20%) 618553 to go"
     ]
    },
    {
     "name": "stdout",
     "output_type": "stream",
     "text": [
      "correct: 54783, predicted: 73240.0, accuracy: 0.7479929000546149\n"
     ]
    },
    {
     "name": "stderr",
     "output_type": "stream",
     "text": [
      "[========                                ] 170094/778587 ( 21%) 608493 to go"
     ]
    },
    {
     "name": "stdout",
     "output_type": "stream",
     "text": [
      "correct: 57802, predicted: 77515.0, accuracy: 0.7456879313681223\n"
     ]
    },
    {
     "name": "stderr",
     "output_type": "stream",
     "text": [
      "[=========                               ] 180051/778587 ( 23%) 598536 to go"
     ]
    },
    {
     "name": "stdout",
     "output_type": "stream",
     "text": [
      "correct: 60926, predicted: 81918.0, accuracy: 0.7437437437437437\n"
     ]
    },
    {
     "name": "stderr",
     "output_type": "stream",
     "text": [
      "[=========                               ] 190096/778587 ( 24%) 588491 to go"
     ]
    },
    {
     "name": "stdout",
     "output_type": "stream",
     "text": [
      "correct: 63868, predicted: 86202.0, accuracy: 0.7409108837381964\n"
     ]
    },
    {
     "name": "stderr",
     "output_type": "stream",
     "text": [
      "[==========                              ] 200099/778587 ( 25%) 578488 to go"
     ]
    },
    {
     "name": "stdout",
     "output_type": "stream",
     "text": [
      "correct: 66620, predicted: 90254.0, accuracy: 0.7381390298490925\n"
     ]
    },
    {
     "name": "stderr",
     "output_type": "stream",
     "text": [
      "[==========                              ] 210056/778587 ( 26%) 568531 to go"
     ]
    },
    {
     "name": "stdout",
     "output_type": "stream",
     "text": [
      "correct: 69476, predicted: 94417.0, accuracy: 0.7358420623404683\n"
     ]
    },
    {
     "name": "stderr",
     "output_type": "stream",
     "text": [
      "[===========                             ] 220041/778587 ( 28%) 558546 to go"
     ]
    },
    {
     "name": "stdout",
     "output_type": "stream",
     "text": [
      "correct: 72247, predicted: 98501.0, accuracy: 0.7334646348768032\n"
     ]
    },
    {
     "name": "stderr",
     "output_type": "stream",
     "text": [
      "[===========                             ] 230037/778587 ( 29%) 548550 to go"
     ]
    },
    {
     "name": "stdout",
     "output_type": "stream",
     "text": [
      "correct: 75246, predicted: 102685.0, accuracy: 0.732784729999513\n"
     ]
    },
    {
     "name": "stderr",
     "output_type": "stream",
     "text": [
      "[============                            ] 240071/778587 ( 30%) 538516 to go"
     ]
    },
    {
     "name": "stdout",
     "output_type": "stream",
     "text": [
      "correct: 78947, predicted: 107471.0, accuracy: 0.7345888658335737\n"
     ]
    },
    {
     "name": "stderr",
     "output_type": "stream",
     "text": [
      "[============                            ] 250007/778587 ( 32%) 528580 to go"
     ]
    },
    {
     "name": "stdout",
     "output_type": "stream",
     "text": [
      "correct: 82636, predicted: 112325.0, accuracy: 0.7356866236367683\n"
     ]
    },
    {
     "name": "stderr",
     "output_type": "stream",
     "text": [
      "[=============                           ] 260092/778587 ( 33%) 518495 to go"
     ]
    },
    {
     "name": "stdout",
     "output_type": "stream",
     "text": [
      "correct: 86026, predicted: 116803.0, accuracy: 0.7365050555208342\n"
     ]
    },
    {
     "name": "stderr",
     "output_type": "stream",
     "text": [
      "[=============                           ] 270037/778587 ( 34%) 508550 to go"
     ]
    },
    {
     "name": "stdout",
     "output_type": "stream",
     "text": [
      "correct: 89341, predicted: 121312.0, accuracy: 0.7364564099182274\n"
     ]
    },
    {
     "name": "stderr",
     "output_type": "stream",
     "text": [
      "[==============                          ] 280048/778587 ( 35%) 498539 to go"
     ]
    },
    {
     "name": "stdout",
     "output_type": "stream",
     "text": [
      "correct: 92840, predicted: 126024.0, accuracy: 0.7366850758585666\n"
     ]
    },
    {
     "name": "stderr",
     "output_type": "stream",
     "text": [
      "[==============                          ] 290071/778587 ( 37%) 488516 to go"
     ]
    },
    {
     "name": "stdout",
     "output_type": "stream",
     "text": [
      "correct: 95911, predicted: 130297.0, accuracy: 0.7360952285931373\n"
     ]
    },
    {
     "name": "stderr",
     "output_type": "stream",
     "text": [
      "[===============                         ] 300097/778587 ( 38%) 478490 to go"
     ]
    },
    {
     "name": "stdout",
     "output_type": "stream",
     "text": [
      "correct: 99234, predicted: 134788.0, accuracy: 0.73622280915215\n"
     ]
    },
    {
     "name": "stderr",
     "output_type": "stream",
     "text": [
      "[===============                         ] 310017/778587 ( 39%) 468570 to go"
     ]
    },
    {
     "name": "stdout",
     "output_type": "stream",
     "text": [
      "correct: 102543, predicted: 139178.0, accuracy: 0.7367759272298783\n"
     ]
    },
    {
     "name": "stderr",
     "output_type": "stream",
     "text": [
      "[================                        ] 320023/778587 ( 41%) 458564 to go"
     ]
    },
    {
     "name": "stdout",
     "output_type": "stream",
     "text": [
      "correct: 106050, predicted: 143648.0, accuracy: 0.7382629761639563\n"
     ]
    },
    {
     "name": "stderr",
     "output_type": "stream",
     "text": [
      "[================                        ] 330058/778587 ( 42%) 448529 to go"
     ]
    },
    {
     "name": "stdout",
     "output_type": "stream",
     "text": [
      "correct: 109507, predicted: 148100.0, accuracy: 0.7394125590817016\n"
     ]
    },
    {
     "name": "stderr",
     "output_type": "stream",
     "text": [
      "[=================                       ] 340044/778587 ( 43%) 438543 to go"
     ]
    },
    {
     "name": "stdout",
     "output_type": "stream",
     "text": [
      "correct: 112864, predicted: 152601.0, accuracy: 0.7396019685323163\n"
     ]
    },
    {
     "name": "stderr",
     "output_type": "stream",
     "text": [
      "[=================                       ] 350069/778587 ( 44%) 428518 to go"
     ]
    },
    {
     "name": "stdout",
     "output_type": "stream",
     "text": [
      "correct: 116189, predicted: 157104.0, accuracy: 0.739567420307567\n"
     ]
    },
    {
     "name": "stderr",
     "output_type": "stream",
     "text": [
      "[==================                      ] 360107/778587 ( 46%) 418480 to go"
     ]
    },
    {
     "name": "stdout",
     "output_type": "stream",
     "text": [
      "correct: 119652, predicted: 161807.0, accuracy: 0.7394735703646937\n"
     ]
    },
    {
     "name": "stderr",
     "output_type": "stream",
     "text": [
      "[===================                     ] 370019/778587 ( 47%) 408568 to go"
     ]
    },
    {
     "name": "stdout",
     "output_type": "stream",
     "text": [
      "correct: 122377, predicted: 165859.0, accuracy: 0.7378375608197324\n"
     ]
    },
    {
     "name": "stderr",
     "output_type": "stream",
     "text": [
      "[===================                     ] 380161/778587 ( 48%) 398426 to go"
     ]
    },
    {
     "name": "stdout",
     "output_type": "stream",
     "text": [
      "correct: 125196, predicted: 169939.0, accuracy: 0.7367114082111816\n"
     ]
    },
    {
     "name": "stderr",
     "output_type": "stream",
     "text": [
      "[====================                    ] 390048/778587 ( 50%) 388539 to go"
     ]
    },
    {
     "name": "stdout",
     "output_type": "stream",
     "text": [
      "correct: 128089, predicted: 174109.0, accuracy: 0.73568281938326\n"
     ]
    },
    {
     "name": "stderr",
     "output_type": "stream",
     "text": [
      "[====================                    ] 400006/778587 ( 51%) 378581 to go"
     ]
    },
    {
     "name": "stdout",
     "output_type": "stream",
     "text": [
      "correct: 130869, predicted: 178290.0, accuracy: 0.7340232205956587\n"
     ]
    },
    {
     "name": "stderr",
     "output_type": "stream",
     "text": [
      "[=====================                   ] 410013/778587 ( 52%) 368574 to go"
     ]
    },
    {
     "name": "stdout",
     "output_type": "stream",
     "text": [
      "correct: 133514, predicted: 182278.0, accuracy: 0.7324745718078979\n"
     ]
    },
    {
     "name": "stderr",
     "output_type": "stream",
     "text": [
      "[=====================                   ] 420309/778587 ( 53%) 358278 to go"
     ]
    },
    {
     "name": "stdout",
     "output_type": "stream",
     "text": [
      "correct: 134964, predicted: 184616.0, accuracy: 0.7310525631581228\n"
     ]
    },
    {
     "name": "stderr",
     "output_type": "stream",
     "text": [
      "[======================                  ] 430502/778587 ( 55%) 348085 to go"
     ]
    },
    {
     "name": "stdout",
     "output_type": "stream",
     "text": [
      "correct: 135478, predicted: 185754.0, accuracy: 0.7293409563185719\n"
     ]
    },
    {
     "name": "stderr",
     "output_type": "stream",
     "text": [
      "[======================                  ] 440386/778587 ( 56%) 338201 to go"
     ]
    },
    {
     "name": "stdout",
     "output_type": "stream",
     "text": [
      "correct: 135914, predicted: 186718.0, accuracy: 0.7279105388875202\n"
     ]
    },
    {
     "name": "stderr",
     "output_type": "stream",
     "text": [
      "[=======================                 ] 450483/778587 ( 57%) 328104 to go"
     ]
    },
    {
     "name": "stdout",
     "output_type": "stream",
     "text": [
      "correct: 136446, predicted: 187798.0, accuracy: 0.7265572583307597\n"
     ]
    },
    {
     "name": "stderr",
     "output_type": "stream",
     "text": [
      "[=======================                 ] 460256/778587 ( 59%) 318331 to go"
     ]
    },
    {
     "name": "stdout",
     "output_type": "stream",
     "text": [
      "correct: 136916, predicted: 188812.0, accuracy: 0.7251445882676949\n"
     ]
    },
    {
     "name": "stderr",
     "output_type": "stream",
     "text": [
      "[========================                ] 470553/778587 ( 60%) 308034 to go"
     ]
    },
    {
     "name": "stdout",
     "output_type": "stream",
     "text": [
      "correct: 137393, predicted: 189826.0, accuracy: 0.723783886295871\n"
     ]
    },
    {
     "name": "stderr",
     "output_type": "stream",
     "text": [
      "[========================                ] 480026/778587 ( 61%) 298561 to go"
     ]
    },
    {
     "name": "stdout",
     "output_type": "stream",
     "text": [
      "correct: 137913, predicted: 190894.0, accuracy: 0.7224585371986547\n"
     ]
    },
    {
     "name": "stderr",
     "output_type": "stream",
     "text": [
      "[=========================               ] 490094/778587 ( 62%) 288493 to go"
     ]
    },
    {
     "name": "stdout",
     "output_type": "stream",
     "text": [
      "correct: 138419, predicted: 191978.0, accuracy: 0.7210149079582036\n"
     ]
    },
    {
     "name": "stderr",
     "output_type": "stream",
     "text": [
      "[=========================               ] 500491/778587 ( 64%) 278096 to go"
     ]
    },
    {
     "name": "stdout",
     "output_type": "stream",
     "text": [
      "correct: 138922, predicted: 193085.0, accuracy: 0.7194862366315353\n"
     ]
    },
    {
     "name": "stderr",
     "output_type": "stream",
     "text": [
      "[==========================              ] 510339/778587 ( 65%) 268248 to go"
     ]
    },
    {
     "name": "stdout",
     "output_type": "stream",
     "text": [
      "correct: 139446, predicted: 194236.0, accuracy: 0.7179204678844292\n"
     ]
    },
    {
     "name": "stderr",
     "output_type": "stream",
     "text": [
      "[==========================              ] 520372/778587 ( 66%) 258215 to go"
     ]
    },
    {
     "name": "stdout",
     "output_type": "stream",
     "text": [
      "correct: 139979, predicted: 195382.0, accuracy: 0.716437542864747\n"
     ]
    },
    {
     "name": "stderr",
     "output_type": "stream",
     "text": [
      "[===========================             ] 530187/778587 ( 68%) 248400 to go"
     ]
    },
    {
     "name": "stdout",
     "output_type": "stream",
     "text": [
      "correct: 140521, predicted: 196557.0, accuracy: 0.7149122137598762\n"
     ]
    },
    {
     "name": "stderr",
     "output_type": "stream",
     "text": [
      "[===========================             ] 540153/778587 ( 69%) 238434 to go"
     ]
    },
    {
     "name": "stdout",
     "output_type": "stream",
     "text": [
      "correct: 140985, predicted: 197577.0, accuracy: 0.7135698993303876\n"
     ]
    },
    {
     "name": "stderr",
     "output_type": "stream",
     "text": [
      "[============================            ] 550224/778587 ( 70%) 228363 to go"
     ]
    },
    {
     "name": "stdout",
     "output_type": "stream",
     "text": [
      "correct: 141462, predicted: 198620.0, accuracy: 0.7122243480012084\n"
     ]
    },
    {
     "name": "stderr",
     "output_type": "stream",
     "text": [
      "[============================            ] 560510/778587 ( 71%) 218077 to go"
     ]
    },
    {
     "name": "stdout",
     "output_type": "stream",
     "text": [
      "correct: 141916, predicted: 199599.0, accuracy: 0.7110055661601511\n"
     ]
    },
    {
     "name": "stderr",
     "output_type": "stream",
     "text": [
      "[=============================           ] 570312/778587 ( 73%) 208275 to go"
     ]
    },
    {
     "name": "stdout",
     "output_type": "stream",
     "text": [
      "correct: 142390, predicted: 200584.0, accuracy: 0.709877158696606\n"
     ]
    },
    {
     "name": "stderr",
     "output_type": "stream",
     "text": [
      "[=============================           ] 580504/778587 ( 74%) 198083 to go"
     ]
    },
    {
     "name": "stdout",
     "output_type": "stream",
     "text": [
      "correct: 142905, predicted: 201638.0, accuracy: 0.708720578462393\n"
     ]
    },
    {
     "name": "stderr",
     "output_type": "stream",
     "text": [
      "[==============================          ] 590201/778587 ( 75%) 188386 to go"
     ]
    },
    {
     "name": "stdout",
     "output_type": "stream",
     "text": [
      "correct: 143446, predicted: 202762.0, accuracy: 0.7074599777078545\n"
     ]
    },
    {
     "name": "stderr",
     "output_type": "stream",
     "text": [
      "[==============================          ] 600134/778587 ( 77%) 178453 to go"
     ]
    },
    {
     "name": "stdout",
     "output_type": "stream",
     "text": [
      "correct: 143955, predicted: 203822.0, accuracy: 0.7062780269058296\n"
     ]
    },
    {
     "name": "stderr",
     "output_type": "stream",
     "text": [
      "[===============================         ] 610302/778587 ( 78%) 168285 to go"
     ]
    },
    {
     "name": "stdout",
     "output_type": "stream",
     "text": [
      "correct: 144524, predicted: 205041.0, accuracy: 0.7048541511209954\n"
     ]
    },
    {
     "name": "stderr",
     "output_type": "stream",
     "text": [
      "[===============================         ] 620060/778587 ( 79%) 158527 to go"
     ]
    },
    {
     "name": "stdout",
     "output_type": "stream",
     "text": [
      "correct: 145009, predicted: 206123.0, accuracy: 0.7035071292383673\n"
     ]
    },
    {
     "name": "stderr",
     "output_type": "stream",
     "text": [
      "[================================        ] 630026/778587 ( 80%) 148561 to go"
     ]
    },
    {
     "name": "stdout",
     "output_type": "stream",
     "text": [
      "correct: 145430, predicted: 207096.0, accuracy: 0.7022347124039093\n"
     ]
    },
    {
     "name": "stderr",
     "output_type": "stream",
     "text": [
      "[================================        ] 640507/778587 ( 82%) 138080 to go"
     ]
    },
    {
     "name": "stdout",
     "output_type": "stream",
     "text": [
      "correct: 145987, predicted: 208245.0, accuracy: 0.7010348387716392\n"
     ]
    },
    {
     "name": "stderr",
     "output_type": "stream",
     "text": [
      "[=================================       ] 650042/778587 ( 83%) 128545 to go"
     ]
    },
    {
     "name": "stdout",
     "output_type": "stream",
     "text": [
      "correct: 146491, predicted: 209381.0, accuracy: 0.6996384581217971\n"
     ]
    },
    {
     "name": "stderr",
     "output_type": "stream",
     "text": [
      "[=================================       ] 660140/778587 ( 84%) 118447 to go"
     ]
    },
    {
     "name": "stdout",
     "output_type": "stream",
     "text": [
      "correct: 147011, predicted: 210595.0, accuracy: 0.6980745031933332\n"
     ]
    },
    {
     "name": "stderr",
     "output_type": "stream",
     "text": [
      "[==================================      ] 670238/778587 ( 86%) 108349 to go"
     ]
    },
    {
     "name": "stdout",
     "output_type": "stream",
     "text": [
      "correct: 147536, predicted: 211723.0, accuracy: 0.6968350155627873\n"
     ]
    },
    {
     "name": "stderr",
     "output_type": "stream",
     "text": [
      "[==================================      ] 680018/778587 ( 87%)  98569 to go"
     ]
    },
    {
     "name": "stdout",
     "output_type": "stream",
     "text": [
      "correct: 148045, predicted: 212748.0, accuracy: 0.6958702314475341\n"
     ]
    },
    {
     "name": "stderr",
     "output_type": "stream",
     "text": [
      "[===================================     ] 690095/778587 ( 88%)  88492 to go"
     ]
    },
    {
     "name": "stdout",
     "output_type": "stream",
     "text": [
      "correct: 148587, predicted: 213835.0, accuracy: 0.6948675380550424\n"
     ]
    },
    {
     "name": "stderr",
     "output_type": "stream",
     "text": [
      "[===================================     ] 700187/778587 ( 89%)  78400 to go"
     ]
    },
    {
     "name": "stdout",
     "output_type": "stream",
     "text": [
      "correct: 149050, predicted: 214747.0, accuracy: 0.6940725598029309\n"
     ]
    },
    {
     "name": "stderr",
     "output_type": "stream",
     "text": [
      "[====================================    ] 710611/778587 ( 91%)  67976 to go"
     ]
    },
    {
     "name": "stdout",
     "output_type": "stream",
     "text": [
      "correct: 149464, predicted: 215553.0, accuracy: 0.6933979114185375\n"
     ]
    },
    {
     "name": "stderr",
     "output_type": "stream",
     "text": [
      "[====================================    ] 720152/778587 ( 92%)  58435 to go"
     ]
    },
    {
     "name": "stdout",
     "output_type": "stream",
     "text": [
      "correct: 150039, predicted: 216744.0, accuracy: 0.6922406156571809\n"
     ]
    },
    {
     "name": "stderr",
     "output_type": "stream",
     "text": [
      "[=====================================   ] 730419/778587 ( 93%)  48168 to go"
     ]
    },
    {
     "name": "stdout",
     "output_type": "stream",
     "text": [
      "correct: 150627, predicted: 218163.0, accuracy: 0.690433299872114\n"
     ]
    },
    {
     "name": "stderr",
     "output_type": "stream",
     "text": [
      "[======================================  ] 740250/778587 ( 95%)  38337 to go"
     ]
    },
    {
     "name": "stdout",
     "output_type": "stream",
     "text": [
      "correct: 151203, predicted: 219431.0, accuracy: 0.6890685454653172\n"
     ]
    },
    {
     "name": "stderr",
     "output_type": "stream",
     "text": [
      "[======================================  ] 750267/778587 ( 96%)  28320 to go"
     ]
    },
    {
     "name": "stdout",
     "output_type": "stream",
     "text": [
      "correct: 151771, predicted: 220901.0, accuracy: 0.6870543818271534\n"
     ]
    },
    {
     "name": "stderr",
     "output_type": "stream",
     "text": [
      "[======================================= ] 760278/778587 ( 97%)  18309 to go"
     ]
    },
    {
     "name": "stdout",
     "output_type": "stream",
     "text": [
      "correct: 152346, predicted: 222304.0, accuracy: 0.6853048078307183\n"
     ]
    },
    {
     "name": "stderr",
     "output_type": "stream",
     "text": [
      "[======================================= ] 770362/778587 ( 98%)   8225 to go"
     ]
    },
    {
     "name": "stdout",
     "output_type": "stream",
     "text": [
      "correct: 152870, predicted: 223624.0, accuracy: 0.6836028333273709\n"
     ]
    },
    {
     "name": "stderr",
     "output_type": "stream",
     "text": [
      "[========================================] 778587/778587 (100%)      0 to go\n"
     ]
    },
    {
     "ename": "NameError",
     "evalue": "name 'num_predict' is not defined",
     "output_type": "error",
     "traceback": [
      "\u001b[0;31m---------------------------------------------------------------------------\u001b[0m",
      "\u001b[0;31mNameError\u001b[0m                                 Traceback (most recent call last)",
      "\u001b[0;32m<ipython-input-297-0d14b70784bd>\u001b[0m in \u001b[0;36m<module>\u001b[0;34m()\u001b[0m\n\u001b[0;32m----> 1\u001b[0;31m \u001b[0mpredict_all\u001b[0m\u001b[0;34m(\u001b[0m\u001b[0mtagged_chunks\u001b[0m\u001b[0;34m)\u001b[0m\u001b[0;34m\u001b[0m\u001b[0m\n\u001b[0m",
      "\u001b[0;32m<ipython-input-296-606c97a3dc2c>\u001b[0m in \u001b[0;36mpredict_all\u001b[0;34m(tagged_chunks)\u001b[0m\n\u001b[1;32m     26\u001b[0m                 \u001b[0mnum_correct\u001b[0m\u001b[0;34m+=\u001b[0m\u001b[0;36m1\u001b[0m\u001b[0;34m\u001b[0m\u001b[0m\n\u001b[1;32m     27\u001b[0m     \u001b[0mprogress\u001b[0m\u001b[0;34m.\u001b[0m\u001b[0mdone\u001b[0m\u001b[0;34m(\u001b[0m\u001b[0;34m)\u001b[0m\u001b[0;34m\u001b[0m\u001b[0m\n\u001b[0;32m---> 28\u001b[0;31m     \u001b[0;32mreturn\u001b[0m \u001b[0mnum_correct\u001b[0m\u001b[0;34m/\u001b[0m\u001b[0mnum_predict\u001b[0m\u001b[0;34m\u001b[0m\u001b[0m\n\u001b[0m",
      "\u001b[0;31mNameError\u001b[0m: name 'num_predict' is not defined"
     ]
    }
   ],
   "source": [
    "# Window size 4 should get 68.3% accuracy.\n",
    "predict_all(tagged_chunks,window_size=4)"
   ]
  }
 ],
 "metadata": {
  "anaconda-cloud": {},
  "kernelspec": {
   "display_name": "Python [conda env:py35]",
   "language": "python",
   "name": "conda-env-py35-py"
  },
  "language_info": {
   "codemirror_mode": {
    "name": "ipython",
    "version": 3
   },
   "file_extension": ".py",
   "mimetype": "text/x-python",
   "name": "python",
   "nbconvert_exporter": "python",
   "pygments_lexer": "ipython3",
   "version": "3.5.2"
  }
 },
 "nbformat": 4,
 "nbformat_minor": 1
}
